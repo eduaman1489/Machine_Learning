{
 "cells": [
  {
   "cell_type": "markdown",
   "metadata": {},
   "source": [
    "# Malware Detection"
   ]
  },
  {
   "cell_type": "markdown",
   "metadata": {},
   "source": [
    "#### Importing required libraries"
   ]
  },
  {
   "cell_type": "code",
   "execution_count": 1,
   "metadata": {},
   "outputs": [],
   "source": [
    "import pandas as pd\n",
    "import matplotlib.pyplot as plt\n",
    "import numpy as np\n",
    "pd.set_option('display.max_columns', None)\n",
    "from sklearn.model_selection import train_test_split\n",
    "import sklearn\n",
    "from sklearn.feature_selection import SelectFromModel\n",
    "from sklearn.ensemble import ExtraTreesClassifier\n",
    "from xgboost import XGBClassifier\n",
    "from sklearn.ensemble import RandomForestClassifier\n",
    "from sklearn.metrics import confusion_matrix\n",
    "from sklearn.model_selection import cross_validate"
   ]
  },
  {
   "cell_type": "markdown",
   "metadata": {},
   "source": [
    "#### Loading Dataset"
   ]
  },
  {
   "cell_type": "code",
   "execution_count": 2,
   "metadata": {},
   "outputs": [
    {
     "data": {
      "text/html": [
       "<div>\n",
       "<style scoped>\n",
       "    .dataframe tbody tr th:only-of-type {\n",
       "        vertical-align: middle;\n",
       "    }\n",
       "\n",
       "    .dataframe tbody tr th {\n",
       "        vertical-align: top;\n",
       "    }\n",
       "\n",
       "    .dataframe thead th {\n",
       "        text-align: right;\n",
       "    }\n",
       "</style>\n",
       "<table border=\"1\" class=\"dataframe\">\n",
       "  <thead>\n",
       "    <tr style=\"text-align: right;\">\n",
       "      <th></th>\n",
       "      <th>Name</th>\n",
       "      <th>md5</th>\n",
       "      <th>Machine</th>\n",
       "      <th>SizeOfOptionalHeader</th>\n",
       "      <th>Characteristics</th>\n",
       "      <th>MajorLinkerVersion</th>\n",
       "      <th>MinorLinkerVersion</th>\n",
       "      <th>SizeOfCode</th>\n",
       "      <th>SizeOfInitializedData</th>\n",
       "      <th>SizeOfUninitializedData</th>\n",
       "      <th>AddressOfEntryPoint</th>\n",
       "      <th>BaseOfCode</th>\n",
       "      <th>BaseOfData</th>\n",
       "      <th>ImageBase</th>\n",
       "      <th>SectionAlignment</th>\n",
       "      <th>FileAlignment</th>\n",
       "      <th>MajorOperatingSystemVersion</th>\n",
       "      <th>MinorOperatingSystemVersion</th>\n",
       "      <th>MajorImageVersion</th>\n",
       "      <th>MinorImageVersion</th>\n",
       "      <th>MajorSubsystemVersion</th>\n",
       "      <th>MinorSubsystemVersion</th>\n",
       "      <th>SizeOfImage</th>\n",
       "      <th>SizeOfHeaders</th>\n",
       "      <th>CheckSum</th>\n",
       "      <th>Subsystem</th>\n",
       "      <th>DllCharacteristics</th>\n",
       "      <th>SizeOfStackReserve</th>\n",
       "      <th>SizeOfStackCommit</th>\n",
       "      <th>SizeOfHeapReserve</th>\n",
       "      <th>SizeOfHeapCommit</th>\n",
       "      <th>LoaderFlags</th>\n",
       "      <th>NumberOfRvaAndSizes</th>\n",
       "      <th>SectionsNb</th>\n",
       "      <th>SectionsMeanEntropy</th>\n",
       "      <th>SectionsMinEntropy</th>\n",
       "      <th>SectionsMaxEntropy</th>\n",
       "      <th>SectionsMeanRawsize</th>\n",
       "      <th>SectionsMinRawsize</th>\n",
       "      <th>SectionMaxRawsize</th>\n",
       "      <th>SectionsMeanVirtualsize</th>\n",
       "      <th>SectionsMinVirtualsize</th>\n",
       "      <th>SectionMaxVirtualsize</th>\n",
       "      <th>ImportsNbDLL</th>\n",
       "      <th>ImportsNb</th>\n",
       "      <th>ImportsNbOrdinal</th>\n",
       "      <th>ExportNb</th>\n",
       "      <th>ResourcesNb</th>\n",
       "      <th>ResourcesMeanEntropy</th>\n",
       "      <th>ResourcesMinEntropy</th>\n",
       "      <th>ResourcesMaxEntropy</th>\n",
       "      <th>ResourcesMeanSize</th>\n",
       "      <th>ResourcesMinSize</th>\n",
       "      <th>ResourcesMaxSize</th>\n",
       "      <th>LoadConfigurationSize</th>\n",
       "      <th>VersionInformationSize</th>\n",
       "      <th>legitimate</th>\n",
       "    </tr>\n",
       "  </thead>\n",
       "  <tbody>\n",
       "    <tr>\n",
       "      <td>0</td>\n",
       "      <td>memtest.exe</td>\n",
       "      <td>631ea355665f28d4707448e442fbf5b8</td>\n",
       "      <td>332</td>\n",
       "      <td>224</td>\n",
       "      <td>258</td>\n",
       "      <td>9</td>\n",
       "      <td>0</td>\n",
       "      <td>361984</td>\n",
       "      <td>115712</td>\n",
       "      <td>0</td>\n",
       "      <td>6135</td>\n",
       "      <td>4096</td>\n",
       "      <td>372736</td>\n",
       "      <td>4194304.0</td>\n",
       "      <td>4096</td>\n",
       "      <td>512</td>\n",
       "      <td>0</td>\n",
       "      <td>0</td>\n",
       "      <td>0</td>\n",
       "      <td>0</td>\n",
       "      <td>1</td>\n",
       "      <td>0</td>\n",
       "      <td>1036288</td>\n",
       "      <td>1024</td>\n",
       "      <td>485887</td>\n",
       "      <td>16</td>\n",
       "      <td>1024</td>\n",
       "      <td>1048576</td>\n",
       "      <td>4096</td>\n",
       "      <td>1048576</td>\n",
       "      <td>4096</td>\n",
       "      <td>0</td>\n",
       "      <td>16</td>\n",
       "      <td>8</td>\n",
       "      <td>5.766807</td>\n",
       "      <td>3.607430</td>\n",
       "      <td>7.221051</td>\n",
       "      <td>59712.0</td>\n",
       "      <td>1024</td>\n",
       "      <td>325120</td>\n",
       "      <td>126875.875</td>\n",
       "      <td>896</td>\n",
       "      <td>551848</td>\n",
       "      <td>0</td>\n",
       "      <td>0</td>\n",
       "      <td>0</td>\n",
       "      <td>0</td>\n",
       "      <td>4</td>\n",
       "      <td>3.262823</td>\n",
       "      <td>2.568844</td>\n",
       "      <td>3.537939</td>\n",
       "      <td>8797.000000</td>\n",
       "      <td>216</td>\n",
       "      <td>18032</td>\n",
       "      <td>0</td>\n",
       "      <td>16</td>\n",
       "      <td>1</td>\n",
       "    </tr>\n",
       "    <tr>\n",
       "      <td>1</td>\n",
       "      <td>ose.exe</td>\n",
       "      <td>9d10f99a6712e28f8acd5641e3a7ea6b</td>\n",
       "      <td>332</td>\n",
       "      <td>224</td>\n",
       "      <td>3330</td>\n",
       "      <td>9</td>\n",
       "      <td>0</td>\n",
       "      <td>130560</td>\n",
       "      <td>19968</td>\n",
       "      <td>0</td>\n",
       "      <td>81778</td>\n",
       "      <td>4096</td>\n",
       "      <td>143360</td>\n",
       "      <td>771751936.0</td>\n",
       "      <td>4096</td>\n",
       "      <td>512</td>\n",
       "      <td>5</td>\n",
       "      <td>1</td>\n",
       "      <td>0</td>\n",
       "      <td>0</td>\n",
       "      <td>5</td>\n",
       "      <td>1</td>\n",
       "      <td>159744</td>\n",
       "      <td>1024</td>\n",
       "      <td>188943</td>\n",
       "      <td>2</td>\n",
       "      <td>33088</td>\n",
       "      <td>1048576</td>\n",
       "      <td>4096</td>\n",
       "      <td>1048576</td>\n",
       "      <td>4096</td>\n",
       "      <td>0</td>\n",
       "      <td>16</td>\n",
       "      <td>4</td>\n",
       "      <td>4.839688</td>\n",
       "      <td>2.373525</td>\n",
       "      <td>6.566909</td>\n",
       "      <td>35584.0</td>\n",
       "      <td>2048</td>\n",
       "      <td>130560</td>\n",
       "      <td>37322.000</td>\n",
       "      <td>1840</td>\n",
       "      <td>130296</td>\n",
       "      <td>7</td>\n",
       "      <td>181</td>\n",
       "      <td>0</td>\n",
       "      <td>0</td>\n",
       "      <td>2</td>\n",
       "      <td>4.250461</td>\n",
       "      <td>3.420744</td>\n",
       "      <td>5.080177</td>\n",
       "      <td>837.000000</td>\n",
       "      <td>518</td>\n",
       "      <td>1156</td>\n",
       "      <td>72</td>\n",
       "      <td>18</td>\n",
       "      <td>1</td>\n",
       "    </tr>\n",
       "    <tr>\n",
       "      <td>2</td>\n",
       "      <td>setup.exe</td>\n",
       "      <td>4d92f518527353c0db88a70fddcfd390</td>\n",
       "      <td>332</td>\n",
       "      <td>224</td>\n",
       "      <td>3330</td>\n",
       "      <td>9</td>\n",
       "      <td>0</td>\n",
       "      <td>517120</td>\n",
       "      <td>621568</td>\n",
       "      <td>0</td>\n",
       "      <td>350896</td>\n",
       "      <td>4096</td>\n",
       "      <td>811008</td>\n",
       "      <td>771751936.0</td>\n",
       "      <td>4096</td>\n",
       "      <td>512</td>\n",
       "      <td>5</td>\n",
       "      <td>1</td>\n",
       "      <td>0</td>\n",
       "      <td>0</td>\n",
       "      <td>5</td>\n",
       "      <td>1</td>\n",
       "      <td>1150976</td>\n",
       "      <td>1024</td>\n",
       "      <td>1159817</td>\n",
       "      <td>2</td>\n",
       "      <td>32832</td>\n",
       "      <td>1048576</td>\n",
       "      <td>4096</td>\n",
       "      <td>1048576</td>\n",
       "      <td>4096</td>\n",
       "      <td>0</td>\n",
       "      <td>16</td>\n",
       "      <td>4</td>\n",
       "      <td>6.409558</td>\n",
       "      <td>4.885191</td>\n",
       "      <td>7.600957</td>\n",
       "      <td>273408.0</td>\n",
       "      <td>21504</td>\n",
       "      <td>517120</td>\n",
       "      <td>284498.000</td>\n",
       "      <td>21456</td>\n",
       "      <td>516760</td>\n",
       "      <td>14</td>\n",
       "      <td>235</td>\n",
       "      <td>21</td>\n",
       "      <td>1</td>\n",
       "      <td>11</td>\n",
       "      <td>4.426324</td>\n",
       "      <td>2.846449</td>\n",
       "      <td>5.271813</td>\n",
       "      <td>31102.272727</td>\n",
       "      <td>104</td>\n",
       "      <td>270376</td>\n",
       "      <td>72</td>\n",
       "      <td>18</td>\n",
       "      <td>1</td>\n",
       "    </tr>\n",
       "    <tr>\n",
       "      <td>3</td>\n",
       "      <td>DW20.EXE</td>\n",
       "      <td>a41e524f8d45f0074fd07805ff0c9b12</td>\n",
       "      <td>332</td>\n",
       "      <td>224</td>\n",
       "      <td>258</td>\n",
       "      <td>9</td>\n",
       "      <td>0</td>\n",
       "      <td>585728</td>\n",
       "      <td>369152</td>\n",
       "      <td>0</td>\n",
       "      <td>451258</td>\n",
       "      <td>4096</td>\n",
       "      <td>798720</td>\n",
       "      <td>771751936.0</td>\n",
       "      <td>4096</td>\n",
       "      <td>512</td>\n",
       "      <td>5</td>\n",
       "      <td>1</td>\n",
       "      <td>0</td>\n",
       "      <td>0</td>\n",
       "      <td>5</td>\n",
       "      <td>1</td>\n",
       "      <td>962560</td>\n",
       "      <td>1024</td>\n",
       "      <td>867570</td>\n",
       "      <td>2</td>\n",
       "      <td>33088</td>\n",
       "      <td>1048576</td>\n",
       "      <td>4096</td>\n",
       "      <td>1048576</td>\n",
       "      <td>4096</td>\n",
       "      <td>0</td>\n",
       "      <td>16</td>\n",
       "      <td>4</td>\n",
       "      <td>6.641731</td>\n",
       "      <td>5.642565</td>\n",
       "      <td>7.594929</td>\n",
       "      <td>207872.0</td>\n",
       "      <td>15360</td>\n",
       "      <td>585728</td>\n",
       "      <td>238502.000</td>\n",
       "      <td>15208</td>\n",
       "      <td>585488</td>\n",
       "      <td>15</td>\n",
       "      <td>360</td>\n",
       "      <td>6</td>\n",
       "      <td>1</td>\n",
       "      <td>10</td>\n",
       "      <td>4.364291</td>\n",
       "      <td>2.669314</td>\n",
       "      <td>6.400720</td>\n",
       "      <td>1457.000000</td>\n",
       "      <td>90</td>\n",
       "      <td>4264</td>\n",
       "      <td>72</td>\n",
       "      <td>18</td>\n",
       "      <td>1</td>\n",
       "    </tr>\n",
       "    <tr>\n",
       "      <td>4</td>\n",
       "      <td>dwtrig20.exe</td>\n",
       "      <td>c87e561258f2f8650cef999bf643a731</td>\n",
       "      <td>332</td>\n",
       "      <td>224</td>\n",
       "      <td>258</td>\n",
       "      <td>9</td>\n",
       "      <td>0</td>\n",
       "      <td>294912</td>\n",
       "      <td>247296</td>\n",
       "      <td>0</td>\n",
       "      <td>217381</td>\n",
       "      <td>4096</td>\n",
       "      <td>536576</td>\n",
       "      <td>771751936.0</td>\n",
       "      <td>4096</td>\n",
       "      <td>512</td>\n",
       "      <td>5</td>\n",
       "      <td>1</td>\n",
       "      <td>0</td>\n",
       "      <td>0</td>\n",
       "      <td>5</td>\n",
       "      <td>1</td>\n",
       "      <td>552960</td>\n",
       "      <td>1024</td>\n",
       "      <td>579287</td>\n",
       "      <td>2</td>\n",
       "      <td>33088</td>\n",
       "      <td>1048576</td>\n",
       "      <td>4096</td>\n",
       "      <td>1048576</td>\n",
       "      <td>4096</td>\n",
       "      <td>0</td>\n",
       "      <td>16</td>\n",
       "      <td>4</td>\n",
       "      <td>6.252684</td>\n",
       "      <td>4.182282</td>\n",
       "      <td>7.608305</td>\n",
       "      <td>128128.0</td>\n",
       "      <td>2560</td>\n",
       "      <td>294912</td>\n",
       "      <td>135350.000</td>\n",
       "      <td>2320</td>\n",
       "      <td>294816</td>\n",
       "      <td>10</td>\n",
       "      <td>194</td>\n",
       "      <td>4</td>\n",
       "      <td>1</td>\n",
       "      <td>2</td>\n",
       "      <td>4.306100</td>\n",
       "      <td>3.421598</td>\n",
       "      <td>5.190603</td>\n",
       "      <td>1074.500000</td>\n",
       "      <td>849</td>\n",
       "      <td>1300</td>\n",
       "      <td>72</td>\n",
       "      <td>18</td>\n",
       "      <td>1</td>\n",
       "    </tr>\n",
       "  </tbody>\n",
       "</table>\n",
       "</div>"
      ],
      "text/plain": [
       "           Name                               md5  Machine  \\\n",
       "0   memtest.exe  631ea355665f28d4707448e442fbf5b8      332   \n",
       "1       ose.exe  9d10f99a6712e28f8acd5641e3a7ea6b      332   \n",
       "2     setup.exe  4d92f518527353c0db88a70fddcfd390      332   \n",
       "3      DW20.EXE  a41e524f8d45f0074fd07805ff0c9b12      332   \n",
       "4  dwtrig20.exe  c87e561258f2f8650cef999bf643a731      332   \n",
       "\n",
       "   SizeOfOptionalHeader  Characteristics  MajorLinkerVersion  \\\n",
       "0                   224              258                   9   \n",
       "1                   224             3330                   9   \n",
       "2                   224             3330                   9   \n",
       "3                   224              258                   9   \n",
       "4                   224              258                   9   \n",
       "\n",
       "   MinorLinkerVersion  SizeOfCode  SizeOfInitializedData  \\\n",
       "0                   0      361984                 115712   \n",
       "1                   0      130560                  19968   \n",
       "2                   0      517120                 621568   \n",
       "3                   0      585728                 369152   \n",
       "4                   0      294912                 247296   \n",
       "\n",
       "   SizeOfUninitializedData  AddressOfEntryPoint  BaseOfCode  BaseOfData  \\\n",
       "0                        0                 6135        4096      372736   \n",
       "1                        0                81778        4096      143360   \n",
       "2                        0               350896        4096      811008   \n",
       "3                        0               451258        4096      798720   \n",
       "4                        0               217381        4096      536576   \n",
       "\n",
       "     ImageBase  SectionAlignment  FileAlignment  MajorOperatingSystemVersion  \\\n",
       "0    4194304.0              4096            512                            0   \n",
       "1  771751936.0              4096            512                            5   \n",
       "2  771751936.0              4096            512                            5   \n",
       "3  771751936.0              4096            512                            5   \n",
       "4  771751936.0              4096            512                            5   \n",
       "\n",
       "   MinorOperatingSystemVersion  MajorImageVersion  MinorImageVersion  \\\n",
       "0                            0                  0                  0   \n",
       "1                            1                  0                  0   \n",
       "2                            1                  0                  0   \n",
       "3                            1                  0                  0   \n",
       "4                            1                  0                  0   \n",
       "\n",
       "   MajorSubsystemVersion  MinorSubsystemVersion  SizeOfImage  SizeOfHeaders  \\\n",
       "0                      1                      0      1036288           1024   \n",
       "1                      5                      1       159744           1024   \n",
       "2                      5                      1      1150976           1024   \n",
       "3                      5                      1       962560           1024   \n",
       "4                      5                      1       552960           1024   \n",
       "\n",
       "   CheckSum  Subsystem  DllCharacteristics  SizeOfStackReserve  \\\n",
       "0    485887         16                1024             1048576   \n",
       "1    188943          2               33088             1048576   \n",
       "2   1159817          2               32832             1048576   \n",
       "3    867570          2               33088             1048576   \n",
       "4    579287          2               33088             1048576   \n",
       "\n",
       "   SizeOfStackCommit  SizeOfHeapReserve  SizeOfHeapCommit  LoaderFlags  \\\n",
       "0               4096            1048576              4096            0   \n",
       "1               4096            1048576              4096            0   \n",
       "2               4096            1048576              4096            0   \n",
       "3               4096            1048576              4096            0   \n",
       "4               4096            1048576              4096            0   \n",
       "\n",
       "   NumberOfRvaAndSizes  SectionsNb  SectionsMeanEntropy  SectionsMinEntropy  \\\n",
       "0                   16           8             5.766807            3.607430   \n",
       "1                   16           4             4.839688            2.373525   \n",
       "2                   16           4             6.409558            4.885191   \n",
       "3                   16           4             6.641731            5.642565   \n",
       "4                   16           4             6.252684            4.182282   \n",
       "\n",
       "   SectionsMaxEntropy  SectionsMeanRawsize  SectionsMinRawsize  \\\n",
       "0            7.221051              59712.0                1024   \n",
       "1            6.566909              35584.0                2048   \n",
       "2            7.600957             273408.0               21504   \n",
       "3            7.594929             207872.0               15360   \n",
       "4            7.608305             128128.0                2560   \n",
       "\n",
       "   SectionMaxRawsize  SectionsMeanVirtualsize  SectionsMinVirtualsize  \\\n",
       "0             325120               126875.875                     896   \n",
       "1             130560                37322.000                    1840   \n",
       "2             517120               284498.000                   21456   \n",
       "3             585728               238502.000                   15208   \n",
       "4             294912               135350.000                    2320   \n",
       "\n",
       "   SectionMaxVirtualsize  ImportsNbDLL  ImportsNb  ImportsNbOrdinal  ExportNb  \\\n",
       "0                 551848             0          0                 0         0   \n",
       "1                 130296             7        181                 0         0   \n",
       "2                 516760            14        235                21         1   \n",
       "3                 585488            15        360                 6         1   \n",
       "4                 294816            10        194                 4         1   \n",
       "\n",
       "   ResourcesNb  ResourcesMeanEntropy  ResourcesMinEntropy  \\\n",
       "0            4              3.262823             2.568844   \n",
       "1            2              4.250461             3.420744   \n",
       "2           11              4.426324             2.846449   \n",
       "3           10              4.364291             2.669314   \n",
       "4            2              4.306100             3.421598   \n",
       "\n",
       "   ResourcesMaxEntropy  ResourcesMeanSize  ResourcesMinSize  ResourcesMaxSize  \\\n",
       "0             3.537939        8797.000000               216             18032   \n",
       "1             5.080177         837.000000               518              1156   \n",
       "2             5.271813       31102.272727               104            270376   \n",
       "3             6.400720        1457.000000                90              4264   \n",
       "4             5.190603        1074.500000               849              1300   \n",
       "\n",
       "   LoadConfigurationSize  VersionInformationSize  legitimate  \n",
       "0                      0                      16           1  \n",
       "1                     72                      18           1  \n",
       "2                     72                      18           1  \n",
       "3                     72                      18           1  \n",
       "4                     72                      18           1  "
      ]
     },
     "execution_count": 2,
     "metadata": {},
     "output_type": "execute_result"
    }
   ],
   "source": [
    "df = pd.read_csv('MalwareData.csv',sep='|')\n",
    "df.head()"
   ]
  },
  {
   "cell_type": "markdown",
   "metadata": {},
   "source": [
    "#### Checking value count of class labels"
   ]
  },
  {
   "cell_type": "code",
   "execution_count": 3,
   "metadata": {},
   "outputs": [
    {
     "data": {
      "text/plain": [
       "<matplotlib.axes._subplots.AxesSubplot at 0x7f313f164470>"
      ]
     },
     "execution_count": 3,
     "metadata": {},
     "output_type": "execute_result"
    },
    {
     "data": {
      "image/png": "[encoded data removed]",
      "text/plain": [
       "<Figure size 432x288 with 1 Axes>"
      ]
     },
     "metadata": {
      "needs_background": "light"
     },
     "output_type": "display_data"
    }
   ],
   "source": [
    "df['legitimate'].value_counts().plot(kind='bar')"
   ]
  },
  {
   "cell_type": "markdown",
   "metadata": {},
   "source": [
    "#### Segregating data "
   ]
  },
  {
   "cell_type": "code",
   "execution_count": 4,
   "metadata": {},
   "outputs": [
    {
     "name": "stdout",
     "output_type": "stream",
     "text": [
      "Total instances of Genuine data is   (41323, 56)\n",
      "Total instances of Malicious data is (96724, 56)\n"
     ]
    }
   ],
   "source": [
    "genuine = df[:41323].drop(['legitimate'],axis=1)   # axis = 1 means vertical \n",
    "malware = df[41323:].drop(['legitimate'],axis=1)\n",
    "\n",
    "print(f'Total instances of Genuine data is   {genuine.shape}')\n",
    "print(f'Total instances of Malicious data is {malware.shape}')"
   ]
  },
  {
   "cell_type": "code",
   "execution_count": 5,
   "metadata": {},
   "outputs": [
    {
     "name": "stdout",
     "output_type": "stream",
     "text": [
      "Total shape of our dataset is (138047, 57)\n",
      "Unique instances present in Name variable is 138047\n",
      "Unique instances present in Name variable is 107488\n"
     ]
    }
   ],
   "source": [
    "print(f'Total shape of our dataset is {df.shape}')\n",
    "print(\"Unique instances present in Name variable is {}\".format(df['md5'].nunique()))\n",
    "print(\"Unique instances present in Name variable is {}\".format(df['Name'].nunique()))"
   ]
  },
  {
   "cell_type": "markdown",
   "metadata": {},
   "source": [
    "#### As these 2 varibles has lots of unique instanes within them , we can simply drop them "
   ]
  },
  {
   "cell_type": "code",
   "execution_count": 6,
   "metadata": {},
   "outputs": [],
   "source": [
    "X_Data = df.drop(['Name', 'md5', 'legitimate'], axis=1).values\n",
    "Y_Target = df['legitimate'].values"
   ]
  },
  {
   "cell_type": "markdown",
   "metadata": {},
   "source": [
    "### Feature Importance "
   ]
  },
  {
   "cell_type": "code",
   "execution_count": 7,
   "metadata": {},
   "outputs": [
    {
     "name": "stdout",
     "output_type": "stream",
     "text": [
      "Shape of new dataset after extracting important features is  : (138047, 13)\n",
      "Shape of old dataset was :                                     (138047, 54)\n"
     ]
    }
   ],
   "source": [
    "classifier = sklearn.ensemble.ExtraTreesClassifier().fit(X_Data, Y_Target)\n",
    "best_features = SelectFromModel(classifier, prefit=True)\n",
    "X_Data_new = best_features.transform(X_Data)\n",
    "print(f'Shape of new dataset after extracting important features is  : {X_Data_new.shape}')\n",
    "print(f'Shape of old dataset was :                                     {X_Data.shape}')"
   ]
  },
  {
   "cell_type": "markdown",
   "metadata": {},
   "source": [
    "#### Plotting Important Variable and their feature importance "
   ]
  },
  {
   "cell_type": "code",
   "execution_count": 8,
   "metadata": {},
   "outputs": [
    {
     "data": {
      "image/png": "[encoded data removed]",
      "text/plain": [
       "<Figure size 1080x288 with 1 Axes>"
      ]
     },
     "metadata": {
      "needs_background": "light"
     },
     "output_type": "display_data"
    }
   ],
   "source": [
    "features = X_Data_new.shape[1]\n",
    "importances = classifier.feature_importances_\n",
    "indices = np.argsort(importances)[::-1]\n",
    "\n",
    "feature_imp = {}\n",
    "for i in range(features):\n",
    "    #print(df.columns[2+indices[i]], importances[indices[i]])\n",
    "    column_name   = df.columns[2+indices[i]]\n",
    "    feature_value = importances[indices[i]]\n",
    "    feature_imp[column_name] = feature_value\n",
    "\n",
    "\n",
    "plt.figure(figsize=(15,4))\n",
    "plt.bar(list(feature_imp.keys()), feature_imp.values(), color='gbry')\n",
    "plt.ylabel ('Percentage of Importance')\n",
    "plt.xlabel ('Significant Features')\n",
    "plt.xticks(rotation=45)\n",
    "plt.show()"
   ]
  },
  {
   "cell_type": "markdown",
   "metadata": {},
   "source": [
    "#### Train Test Splitting Dataset"
   ]
  },
  {
   "cell_type": "code",
   "execution_count": 9,
   "metadata": {},
   "outputs": [
    {
     "name": "stdout",
     "output_type": "stream",
     "text": [
      "Shape of our train dataset is (110437, 13) and (110437,) \n",
      "Shape of our test dataset is  (27610, 13) and  (27610,) \n"
     ]
    }
   ],
   "source": [
    "X_train, X_test, y_train, y_test = train_test_split(X_Data_new, Y_Target, test_size = 0.20, random_state = 0)\n",
    "\n",
    "print(f'Shape of our train dataset is {X_train.shape} and {y_train.shape} ')\n",
    "print(f'Shape of our test dataset is  {X_test.shape} and  {y_test.shape} ')"
   ]
  },
  {
   "cell_type": "markdown",
   "metadata": {},
   "source": [
    "## XG Boost Classifier"
   ]
  },
  {
   "cell_type": "code",
   "execution_count": 18,
   "metadata": {},
   "outputs": [
    {
     "data": {
      "text/plain": [
       "'Model Accuracy of XGBoost on Test data is 99.3408185440058'"
      ]
     },
     "execution_count": 18,
     "metadata": {},
     "output_type": "execute_result"
    }
   ],
   "source": [
    "classifier = XGBClassifier(max_depth=10, learning_rate=0.1, n_estimators=50)\n",
    "classifier.fit(X_train, y_train)\n",
    "\n",
    "y_pred = classifier.predict(X_test)\n",
    "\n",
    "f'Model Accuracy of XGBoost on Test data is {classifier.score(X_test,y_test)*100}'"
   ]
  },
  {
   "cell_type": "code",
   "execution_count": 19,
   "metadata": {},
   "outputs": [
    {
     "name": "stdout",
     "output_type": "stream",
     "text": [
      "[[19312   101]\n",
      " [   81  8116]]\n",
      "False Positive Score for this model is 0.520269922217071\n",
      "False Negative Score for this model is 0.9881664023423204\n"
     ]
    }
   ],
   "source": [
    "confusion_matrix = confusion_matrix(y_test, y_pred)\n",
    "print(confusion_matrix)\n",
    "\n",
    "false_positive_score = confusion_matrix[0][1]/sum(confusion_matrix[0])*100\n",
    "false_negative_score = confusion_matrix[1][0]/sum(confusion_matrix[1])*100\n",
    "\n",
    "print(f'False Positive Score for this model is {false_positive_score}')\n",
    "print(f'False Negative Score for this model is {false_negative_score}')"
   ]
  },
  {
   "cell_type": "markdown",
   "metadata": {},
   "source": [
    "## Random Forest Classifier"
   ]
  },
  {
   "cell_type": "code",
   "execution_count": 12,
   "metadata": {},
   "outputs": [
    {
     "name": "stdout",
     "output_type": "stream",
     "text": [
      "Model Accuracy of Random Forest on Test data is 99.47120608475191\n"
     ]
    }
   ],
   "source": [
    "classifier = RandomForestClassifier(n_estimators = 50, criterion = 'entropy')\n",
    "classifier.fit(X_train, y_train)\n",
    "\n",
    "y_pred = classifier.predict(X_test)\n",
    "\n",
    "print(f'Model Accuracy of Random Forest on Test data is {classifier.score(X_test,y_test)*100}')"
   ]
  },
  {
   "cell_type": "code",
   "execution_count": 13,
   "metadata": {},
   "outputs": [
    {
     "data": {
      "text/plain": [
       "array([[19323,    90],\n",
       "       [   56,  8141]])"
      ]
     },
     "execution_count": 13,
     "metadata": {},
     "output_type": "execute_result"
    }
   ],
   "source": [
    "confusion_matrix(y_test.tolist(), y_pred.tolist())"
   ]
  },
  {
   "cell_type": "code",
   "execution_count": 14,
   "metadata": {},
   "outputs": [
    {
     "name": "stdout",
     "output_type": "stream",
     "text": [
      "[[19323    90]\n",
      " [   56  8141]]\n",
      "False Positive Score for this model is 0.4636068613815485\n",
      "False Negative Score for this model is 0.6831767719897524\n"
     ]
    }
   ],
   "source": [
    "confusion_matrix = confusion_matrix(y_test, y_pred)\n",
    "print(confusion_matrix)\n",
    "\n",
    "false_positive_score = confusion_matrix[0][1]/sum(confusion_matrix[0])*100\n",
    "false_negative_score = confusion_matrix[1][0]/sum(confusion_matrix[1])*100\n",
    "\n",
    "print(f'False Positive Score for this model is {false_positive_score}')\n",
    "print(f'False Negative Score for this model is {false_negative_score}')"
   ]
  },
  {
   "cell_type": "code",
   "execution_count": null,
   "metadata": {},
   "outputs": [],
   "source": []
  }
 ],
 "metadata": {
  "kernelspec": {
   "display_name": "Python 3",
   "language": "python",
   "name": "python3"
  },
  "language_info": {
   "codemirror_mode": {
    "name": "ipython",
    "version": 3
   },
   "file_extension": ".py",
   "mimetype": "text/x-python",
   "name": "python",
   "nbconvert_exporter": "python",
   "pygments_lexer": "ipython3",
   "version": "3.6.8"
  },
  "toc": {
   "base_numbering": 1,
   "nav_menu": {},
   "number_sections": true,
   "sideBar": true,
   "skip_h1_title": false,
   "title_cell": "Table of Contents",
   "title_sidebar": "Contents",
   "toc_cell": false,
   "toc_position": {},
   "toc_section_display": true,
   "toc_window_display": false
  }
 },
 "nbformat": 4,
 "nbformat_minor": 2
}
