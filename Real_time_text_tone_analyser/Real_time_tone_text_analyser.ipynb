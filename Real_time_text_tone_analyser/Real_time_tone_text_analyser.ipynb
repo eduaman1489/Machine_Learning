{
 "cells": [
  {
   "cell_type": "code",
   "execution_count": 8,
   "metadata": {},
   "outputs": [
    {
     "name": "stderr",
     "output_type": "stream",
     "text": [
      "[nltk_data] Downloading package vader_lexicon to\n",
      "[nltk_data]     /Users/heisenberg/nltk_data...\n",
      "[nltk_data]   Package vader_lexicon is already up-to-date!\n"
     ]
    }
   ],
   "source": [
    "import spacy\n",
    "import en_core_web_sm\n",
    "import nltk\n",
    "nlp = en_core_web_sm.load()\n",
    "import speech_recognition as sr\n",
    "from textblob import TextBlob as blob\n",
    "from nltk.sentiment.vader import SentimentIntensityAnalyzer\n",
    "nltk.download('vader_lexicon')                # Valence Aware Dictionary and Sentiment Reasoner, it's a Lexicon tool\n",
    "import matplotlib.pyplot as plt\n",
    "#from matplotlib.animation import FuncAnimation\n",
    "from threading import Thread\n",
    "import time\n",
    "#import pyttsx3\n",
    "import sounddevice as sd\n",
    "import numpy as np\n",
    "#engine = pyttsx3.init()\n",
    "r = sr.Recognizer()\n",
    "from concurrent.futures import ThreadPoolExecutor\n",
    "from os import system\n",
    "import subprocess"
   ]
  },
  {
   "cell_type": "code",
   "execution_count": 18,
   "metadata": {},
   "outputs": [],
   "source": [
    "def tone_analyzer():\n",
    "\n",
    "    negative_tone,positive_tone,aggregated_tone,neutral_tone = [],[],[],[]\n",
    "\n",
    "    nltk_analyzer = SentimentIntensityAnalyzer()\n",
    "    with sr.Microphone() as source:              # Considering Microphone as Source\n",
    "        print('Please Speak Something...\\n')  \n",
    "        audio = r.listen(source, timeout=2)      # Timeout, if microphone won't get any input witihn 2 seconds, stop recording   \n",
    "        try:\n",
    "            text = r.recognize_google(audio)     # Speech to Text with recognize_google\n",
    "            tb = blob(text)\n",
    "            print(f'This is what you have just spoken : {text} \\n')\n",
    "            print('Lets analyze it \\n')\n",
    "            negative_tone.append(nltk_analyzer.polarity_scores(text)['neg'])\n",
    "            positive_tone.append(nltk_analyzer.polarity_scores(text)['pos'])\n",
    "            aggregated_tone.append(nltk_analyzer.polarity_scores(text)['compound'])\n",
    "            neutral_tone.append(nltk_analyzer.polarity_scores(text)['neu'])\n",
    "            [print(f'{i[0]:{10}} {spacy.explain(i[1]):{10}}') for i in tb.tags]\n",
    "            print('\\n')\n",
    "        except:\n",
    "            print('I didnt hear anything, please speak again')\n",
    "\n",
    "    sentiment = []\n",
    "    if aggregated_tone[0] >= 0.05 : \n",
    "        sentiment.append(\"POSTIVE\") \n",
    "    elif aggregated_tone[0] <= - 0.05 : \n",
    "        sentiment.append(\"NEGATIVE\") \n",
    "    else : \n",
    "        sentiment.append(\"NEUTRAL\")\n",
    "\n",
    "    new_text = f'Whatever you just have spoken, sounds {round(negative_tone[0]*100)} % Negative, {round(positive_tone[0]*100)}% Positive, {round(neutral_tone[0]*100)} % Neutral and on an average it\\'s a {sentiment[0]} tone'\n",
    "    print(new_text)\n",
    "    subprocess.call([\"say\",new_text])\n",
    "    #system(f\"echo {new_text}\")\n",
    "    \n",
    "def tone_amplitude():\n",
    "    fs=44100\n",
    "    duration = 5  # seconds\n",
    "    myrecording = sd.rec(duration * fs, samplerate=fs, channels=2,dtype='float64')\n",
    "    sd.wait()\n",
    "    fig = plt.figure()\n",
    "    s = fig.add_subplot(111)\n",
    "    amplitude = np.fromstring(myrecording)\n",
    "    s.plot(amplitude)"
   ]
  },
  {
   "cell_type": "code",
   "execution_count": 20,
   "metadata": {},
   "outputs": [
    {
     "name": "stdout",
     "output_type": "stream",
     "text": [
      "Please Speak Something...\n",
      "\n"
     ]
    },
    {
     "name": "stderr",
     "output_type": "stream",
     "text": [
      "/Users/heisenberg/anaconda3/lib/python3.7/site-packages/ipykernel_launcher.py:43: DeprecationWarning: The binary mode of fromstring is deprecated, as it behaves surprisingly on unicode inputs. Use frombuffer instead\n"
     ]
    },
    {
     "name": "stdout",
     "output_type": "stream",
     "text": [
      "This is what you have just spoken : you are such an arrogant man \n",
      "\n",
      "Lets analyze it \n",
      "\n",
      "you        pronoun, personal\n",
      "are        verb, non-3rd person singular present\n",
      "such       adjective \n",
      "an         determiner\n",
      "arrogant   adjective \n",
      "man        noun, singular or mass\n",
      "\n",
      "\n",
      "Whatever you just have spoken, sounds 39 % Negative, 0% Positive, 61 % Neutral and on an average it's a NEGATIVE tone\n",
      "None\n",
      "None\n"
     ]
    },
    {
     "data": {
      "image/png": "[encoded data removed]",
      "text/plain": [
       "<Figure size 432x288 with 1 Axes>"
      ]
     },
     "metadata": {
      "needs_background": "light"
     },
     "output_type": "display_data"
    }
   ],
   "source": [
    "executors_list = []\n",
    "\n",
    "with ThreadPoolExecutor(max_workers=2) as executor:\n",
    "    executors_list.append(executor.submit(tone_analyzer))\n",
    "    executors_list.append(executor.submit(tone_amplitude))\n",
    "\n",
    "for x in executors_list:\n",
    "    print(x.result())"
   ]
  },
  {
   "cell_type": "code",
   "execution_count": 13,
   "metadata": {},
   "outputs": [
    {
     "data": {
      "text/plain": [
       "0"
      ]
     },
     "execution_count": 13,
     "metadata": {},
     "output_type": "execute_result"
    }
   ],
   "source": [
    "text = 'alright lets play'\n",
    "system(f'say {text}')\n",
    "subprocess.call([\"say\",text])"
   ]
  },
  {
   "cell_type": "code",
   "execution_count": null,
   "metadata": {},
   "outputs": [],
   "source": []
  }
 ],
 "metadata": {
  "kernelspec": {
   "display_name": "Python 3",
   "language": "python",
   "name": "python3"
  },
  "language_info": {
   "codemirror_mode": {
    "name": "ipython",
    "version": 3
   },
   "file_extension": ".py",
   "mimetype": "text/x-python",
   "name": "python",
   "nbconvert_exporter": "python",
   "pygments_lexer": "ipython3",
   "version": "3.7.1"
  }
 },
 "nbformat": 4,
 "nbformat_minor": 2
}
